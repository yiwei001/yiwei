{
 "cells": [
  {
   "cell_type": "code",
   "execution_count": 15,
   "id": "7f8ad48a",
   "metadata": {},
   "outputs": [
    {
     "name": "stdout",
     "output_type": "stream",
     "text": [
      "true\n",
      "true\n",
      "true\n",
      "true\n"
     ]
    }
   ],
   "source": [
    "# 分割西瓜，哈密瓜的训练集和测试集\n",
    "import os\n",
    "import shutil\n",
    "import random\n",
    "from shutil import copyfile\n",
    "\n",
    "def split_data(SOURCE, TRAINING, TESTING, SPLIT_SIZE): # 跳过0长度的文件\n",
    "    files = []\n",
    "    for filename in os.listdir(SOURCE):\n",
    "        file = SOURCE + filename\n",
    "        if os.path.getsize(file) > 0:\n",
    "            files.append(filename)\n",
    "        else:\n",
    "            print(filename + \" is zero length, so ignoring.\")\n",
    "\n",
    "    training_length = int(len(files) * SPLIT_SIZE)\n",
    "    testing_length = int(len(files) - training_length)\n",
    "    shuffled_set = random.sample(files, len(files))\n",
    "    training_set = shuffled_set[0:training_length]\n",
    "    testing_set = shuffled_set[-testing_length:]\n",
    "\n",
    "    for filename in training_set:\n",
    "        this_file = SOURCE + filename\n",
    "        destination = TRAINING + filename\n",
    "        copyfile(this_file, destination)\n",
    "\n",
    "    for filename in testing_set:\n",
    "        this_file = SOURCE + filename\n",
    "        destination = TESTING + filename\n",
    "        copyfile(this_file, destination)\n",
    "\n",
    "\n",
    "XIGUA_SOURCE_DIR = \"E://机器学习//fruit//train_xigua//train/\"\n",
    "TRAINING_XIGUA_DIR = \"E://机器学习//fruit//find_fruit4//train//xigua/\"\n",
    "TESTING_XIGUA_DIR = \"E://机器学习//fruit//find_fruit4//test//xigua/\"\n",
    "HAMI_SOURCE_DIR = \"E://机器学习//fruit//train_hami//train/\"\n",
    "TRAINING_HAMI_DIR = \"E://机器学习//fruit//find_fruit4//train//hami/\"\n",
    "TESTING_HAMI_DIR = \"E://机器学习//fruit//find_fruit4//test//hami/\"\n",
    "\n",
    "def create_dir(file_dir):\n",
    "    if os.path.exists(file_dir):\n",
    "        print('true')\n",
    "        shutil.rmtree(file_dir) # 删除再建立\n",
    "        os.makedirs(file_dir)\n",
    "    else:\n",
    "        os.makedirs(file_dir)\n",
    "\n",
    "create_dir(TRAINING_XIGUA_DIR)\n",
    "create_dir(TESTING_XIGUA_DIR)\n",
    "create_dir(TRAINING_HAMI_DIR)\n",
    "create_dir(TESTING_HAMI_DIR)\n",
    "\n",
    "split_size = .9\n",
    "split_data(XIGUA_SOURCE_DIR, TRAINING_XIGUA_DIR, TESTING_XIGUA_DIR, split_size)\n",
    "split_data(HAMI_SOURCE_DIR, TRAINING_HAMI_DIR, TESTING_HAMI_DIR, split_size)"
   ]
  },
  {
   "cell_type": "code",
   "execution_count": 16,
   "id": "a5e7a1e4",
   "metadata": {},
   "outputs": [
    {
     "name": "stdout",
     "output_type": "stream",
     "text": [
      "Model: \"sequential_1\"\n",
      "_________________________________________________________________\n",
      "Layer (type)                 Output Shape              Param #   \n",
      "=================================================================\n",
      "conv2d_4 (Conv2D)            (None, 148, 148, 32)      896       \n",
      "_________________________________________________________________\n",
      "max_pooling2d_4 (MaxPooling2 (None, 74, 74, 32)        0         \n",
      "_________________________________________________________________\n",
      "conv2d_5 (Conv2D)            (None, 72, 72, 64)        18496     \n",
      "_________________________________________________________________\n",
      "max_pooling2d_5 (MaxPooling2 (None, 36, 36, 64)        0         \n",
      "_________________________________________________________________\n",
      "conv2d_6 (Conv2D)            (None, 34, 34, 128)       73856     \n",
      "_________________________________________________________________\n",
      "max_pooling2d_6 (MaxPooling2 (None, 17, 17, 128)       0         \n",
      "_________________________________________________________________\n",
      "conv2d_7 (Conv2D)            (None, 15, 15, 128)       147584    \n",
      "_________________________________________________________________\n",
      "max_pooling2d_7 (MaxPooling2 (None, 7, 7, 128)         0         \n",
      "_________________________________________________________________\n",
      "flatten_1 (Flatten)          (None, 6272)              0         \n",
      "_________________________________________________________________\n",
      "dense_2 (Dense)              (None, 512)               3211776   \n",
      "_________________________________________________________________\n",
      "dense_3 (Dense)              (None, 1)                 513       \n",
      "=================================================================\n",
      "Total params: 3,453,121\n",
      "Trainable params: 3,453,121\n",
      "Non-trainable params: 0\n",
      "_________________________________________________________________\n"
     ]
    }
   ],
   "source": [
    "#网络模型构建\n",
    "from tensorflow.keras import layers\n",
    "from tensorflow.keras import models\n",
    "#keras的序贯模型\n",
    "model = models.Sequential()\n",
    "#卷积层，卷积核是3*3，激活函数relu\n",
    "model.add(layers.Conv2D(32, (3, 3), activation='relu',\n",
    "                        input_shape=(150, 150, 3)))\n",
    "#最大池化层\n",
    "model.add(layers.MaxPooling2D((2, 2)))\n",
    "#卷积层，卷积核2*2，激活函数relu\n",
    "model.add(layers.Conv2D(64, (3, 3), activation='relu'))\n",
    "#最大池化层\n",
    "model.add(layers.MaxPooling2D((2, 2)))\n",
    "#卷积层，卷积核是3*3，激活函数relu\n",
    "model.add(layers.Conv2D(128, (3, 3), activation='relu'))\n",
    "#最大池化层\n",
    "model.add(layers.MaxPooling2D((2, 2)))\n",
    "#卷积层，卷积核是3*3，激活函数relu\n",
    "model.add(layers.Conv2D(128, (3, 3), activation='relu'))\n",
    "#最大池化层\n",
    "model.add(layers.MaxPooling2D((2, 2)))\n",
    "#flatten层，用于将多维的输入一维化，用于卷积层和全连接层的过渡\n",
    "model.add(layers.Flatten())\n",
    "#全连接，激活函数relu\n",
    "model.add(layers.Dense(512, activation='relu'))\n",
    "#全连接，激活函数sigmoid\n",
    "model.add(layers.Dense(1, activation='sigmoid'))\n",
    "#显示\n",
    "model.summary()"
   ]
  },
  {
   "cell_type": "code",
   "execution_count": 17,
   "id": "9e927077",
   "metadata": {},
   "outputs": [],
   "source": [
    "from tensorflow import optimizers\n",
    "\n",
    "model.compile(loss='binary_crossentropy',\n",
    "              optimizer=optimizers.RMSprop(lr=1e-4),\n",
    "              metrics=['acc'])"
   ]
  },
  {
   "cell_type": "code",
   "execution_count": 31,
   "id": "dbf98c4c",
   "metadata": {},
   "outputs": [
    {
     "name": "stdout",
     "output_type": "stream",
     "text": [
      "Found 22500 images belonging to 2 classes.\n",
      "Found 2500 images belonging to 2 classes.\n"
     ]
    }
   ],
   "source": [
    "from tensorflow.keras.preprocessing.image import ImageDataGenerator\n",
    "\n",
    "# 所有图像将按1/255重新缩放\n",
    "train_datagen = ImageDataGenerator(rescale=1./255)\n",
    "test_datagen = ImageDataGenerator(rescale=1./255)\n",
    "\n",
    "train_generator = train_datagen.flow_from_directory(\n",
    "        # 这是目标目录\n",
    "        train_dir,\n",
    "        # 所有图像将调整为150x150\n",
    "        target_size=(150, 150),\n",
    "        batch_size=20,\n",
    "        # 因为我们使用二元交叉熵损失，我们需要二元标签\n",
    "        class_mode='binary')\n",
    "\n",
    "\n",
    "validation_generator=train_datagen.flow_from_directory(\n",
    "    directory=test_dir,\n",
    "    target_size=(150,150),\n",
    "    class_mode='binary',\n",
    "    batch_size=20\n",
    ")"
   ]
  },
  {
   "cell_type": "code",
   "execution_count": 32,
   "id": "c0db4f73",
   "metadata": {},
   "outputs": [
    {
     "name": "stdout",
     "output_type": "stream",
     "text": [
      "Epoch 1/30\n",
      "100/100 [==============================] - 169s 2s/step - loss: 0.3935 - acc: 0.8235 - val_loss: 0.4773 - val_acc: 0.7780\n",
      "Epoch 2/30\n",
      "100/100 [==============================] - 168s 2s/step - loss: 0.3728 - acc: 0.8395 - val_loss: 0.4156 - val_acc: 0.8170\n",
      "Epoch 3/30\n",
      "100/100 [==============================] - 91s 909ms/step - loss: 0.3739 - acc: 0.8340 - val_loss: 0.4165 - val_acc: 0.8190\n",
      "Epoch 4/30\n",
      "100/100 [==============================] - 83s 828ms/step - loss: 0.3676 - acc: 0.8375 - val_loss: 0.3854 - val_acc: 0.8430\n",
      "Epoch 5/30\n",
      "100/100 [==============================] - 77s 766ms/step - loss: 0.3816 - acc: 0.8270 - val_loss: 0.3883 - val_acc: 0.8220\n",
      "Epoch 6/30\n",
      "100/100 [==============================] - 74s 739ms/step - loss: 0.3987 - acc: 0.8155 - val_loss: 0.4104 - val_acc: 0.8150\n",
      "Epoch 7/30\n",
      "100/100 [==============================] - 74s 744ms/step - loss: 0.3499 - acc: 0.8480 - val_loss: 0.4110 - val_acc: 0.8310\n",
      "Epoch 8/30\n",
      "100/100 [==============================] - 86s 861ms/step - loss: 0.3581 - acc: 0.8395 - val_loss: 0.3536 - val_acc: 0.8450\n",
      "Epoch 9/30\n",
      "100/100 [==============================] - 92s 918ms/step - loss: 0.3694 - acc: 0.8335 - val_loss: 0.4450 - val_acc: 0.7880\n",
      "Epoch 10/30\n",
      "100/100 [==============================] - 91s 912ms/step - loss: 0.3473 - acc: 0.8405 - val_loss: 0.3771 - val_acc: 0.8380\n",
      "Epoch 11/30\n",
      "100/100 [==============================] - 81s 807ms/step - loss: 0.3380 - acc: 0.8510 - val_loss: 0.3721 - val_acc: 0.8490\n",
      "Epoch 12/30\n",
      "100/100 [==============================] - 79s 792ms/step - loss: 0.3623 - acc: 0.8440 - val_loss: 0.4053 - val_acc: 0.8190\n",
      "Epoch 13/30\n",
      "100/100 [==============================] - 73s 734ms/step - loss: 0.3618 - acc: 0.8380 - val_loss: 0.3816 - val_acc: 0.8400\n",
      "Epoch 14/30\n",
      "100/100 [==============================] - 71s 714ms/step - loss: 0.3480 - acc: 0.8590 - val_loss: 0.3867 - val_acc: 0.8340\n",
      "Epoch 15/30\n",
      "100/100 [==============================] - 67s 670ms/step - loss: 0.3501 - acc: 0.8520 - val_loss: 0.3875 - val_acc: 0.8300\n",
      "Epoch 16/30\n",
      "100/100 [==============================] - 63s 626ms/step - loss: 0.3451 - acc: 0.8515 - val_loss: 0.3623 - val_acc: 0.8480\n",
      "Epoch 17/30\n",
      "100/100 [==============================] - 64s 638ms/step - loss: 0.3213 - acc: 0.8600 - val_loss: 0.3997 - val_acc: 0.8230\n",
      "Epoch 18/30\n",
      "100/100 [==============================] - 65s 647ms/step - loss: 0.3219 - acc: 0.8665 - val_loss: 0.3765 - val_acc: 0.8330\n",
      "Epoch 19/30\n",
      "100/100 [==============================] - 65s 654ms/step - loss: 0.3154 - acc: 0.8545 - val_loss: 0.3731 - val_acc: 0.8360\n",
      "Epoch 20/30\n",
      "100/100 [==============================] - 63s 631ms/step - loss: 0.3147 - acc: 0.8575 - val_loss: 0.3860 - val_acc: 0.8390\n",
      "Epoch 21/30\n",
      "100/100 [==============================] - 62s 619ms/step - loss: 0.3186 - acc: 0.8575 - val_loss: 0.4086 - val_acc: 0.8200\n",
      "Epoch 22/30\n",
      "100/100 [==============================] - 60s 596ms/step - loss: 0.3252 - acc: 0.8520 - val_loss: 0.3536 - val_acc: 0.8500\n",
      "Epoch 23/30\n",
      "100/100 [==============================] - 65s 648ms/step - loss: 0.3163 - acc: 0.8615 - val_loss: 0.3672 - val_acc: 0.8420\n",
      "Epoch 24/30\n",
      "100/100 [==============================] - 64s 637ms/step - loss: 0.3027 - acc: 0.8690 - val_loss: 0.3346 - val_acc: 0.8590\n",
      "Epoch 25/30\n",
      "100/100 [==============================] - 64s 637ms/step - loss: 0.3044 - acc: 0.8675 - val_loss: 0.3606 - val_acc: 0.8350\n",
      "Epoch 26/30\n",
      "100/100 [==============================] - 62s 620ms/step - loss: 0.3051 - acc: 0.8705 - val_loss: 0.3383 - val_acc: 0.8510\n",
      "Epoch 27/30\n",
      "100/100 [==============================] - 65s 646ms/step - loss: 0.2788 - acc: 0.8845 - val_loss: 0.3714 - val_acc: 0.8430\n",
      "Epoch 28/30\n",
      "100/100 [==============================] - 65s 653ms/step - loss: 0.2919 - acc: 0.8810 - val_loss: 0.3917 - val_acc: 0.8300\n",
      "Epoch 29/30\n",
      "100/100 [==============================] - 63s 632ms/step - loss: 0.3195 - acc: 0.8635 - val_loss: 0.3378 - val_acc: 0.8530\n",
      "Epoch 30/30\n",
      "100/100 [==============================] - 68s 679ms/step - loss: 0.3041 - acc: 0.8625 - val_loss: 0.3241 - val_acc: 0.8480\n"
     ]
    }
   ],
   "source": [
    "history = model.fit_generator(\n",
    "      train_generator,\n",
    "      steps_per_epoch=100,\n",
    "      epochs=30,\n",
    "      validation_data=validation_generator,\n",
    "      validation_steps=50)"
   ]
  },
  {
   "cell_type": "code",
   "execution_count": 34,
   "id": "82052c22",
   "metadata": {},
   "outputs": [
    {
     "data": {
      "image/png": "[encoded data removed]",
      "text/plain": [
       "<Figure size 432x288 with 1 Axes>"
      ]
     },
     "metadata": {
      "needs_background": "light"
     },
     "output_type": "display_data"
    },
    {
     "data": {
      "image/png": "[encoded data removed]",
      "text/plain": [
       "<Figure size 432x288 with 1 Axes>"
      ]
     },
     "metadata": {
      "needs_background": "light"
     },
     "output_type": "display_data"
    }
   ],
   "source": [
    "import matplotlib.image  as mpimg\n",
    "import matplotlib.pyplot as plt\n",
    "acc=history.history['acc']\n",
    "val_acc = history.history['val_acc']\n",
    "loss=history.history['loss']\n",
    "val_loss=history.history['val_loss']\n",
    "\n",
    "epochs = range(len(acc))\n",
    "\n",
    "plt.plot(epochs, acc, 'bo', label='Training acc')\n",
    "plt.plot(epochs, val_acc, 'b', label='Validation acc')\n",
    "plt.title('Training and validation accuracy')\n",
    "plt.legend()\n",
    "\n",
    "plt.figure()\n",
    "\n",
    "plt.plot(epochs, loss, 'bo', label='Training loss')\n",
    "plt.plot(epochs, val_loss, 'b', label='Validation loss')\n",
    "plt.title('Training and validation loss')\n",
    "plt.legend()\n",
    "\n",
    "plt.show()"
   ]
  }
 ],
 "metadata": {
  "kernelspec": {
   "display_name": "Python 3 (ipykernel)",
   "language": "python",
   "name": "python3"
  },
  "language_info": {
   "codemirror_mode": {
    "name": "ipython",
    "version": 3
   },
   "file_extension": ".py",
   "mimetype": "text/x-python",
   "name": "python",
   "nbconvert_exporter": "python",
   "pygments_lexer": "ipython3",
   "version": "3.8.3"
  }
 },
 "nbformat": 4,
 "nbformat_minor": 5
}
