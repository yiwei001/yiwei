{
 "cells": [
  {
   "cell_type": "code",
   "execution_count": 1,
   "id": "ce77db4b",
   "metadata": {},
   "outputs": [],
   "source": [
    "import os,shutil\n",
    "# 原始目录所在的路径\n",
    "original_dataset_dir='E://机器学习//fruit//train'\n",
    "# 数据集分类后的目录\n",
    "base_dir='E://机器学习//fruit//find_fruit'\n",
    "os.mkdir(base_dir)\n",
    "\n",
    "# # 训练、验证、测试数据集的目录\n",
    "train_dir=os.path.join(base_dir,'train')\n",
    "os.mkdir(train_dir)\n",
    "validation_dir=os.path.join(base_dir,'validaiton')\n",
    "os.mkdir(validation_dir)\n",
    "test_dir=os.path.join(base_dir,'test')\n",
    "os.mkdir(test_dir)\n",
    "\n",
    "# 西瓜训练图片所在目录\n",
    "train_xigua_dir = os.path.join(train_dir, 'xigua')\n",
    "os.mkdir(train_xigua_dir)\n",
    "\n",
    "# 哈密瓜训练图片所在目录\n",
    "train_hami_dir = os.path.join(train_dir, 'hami')\n",
    "os.mkdir(train_hami_dir)\n",
    "\n",
    "# 西瓜验证图片所在目录\n",
    "validation_xigua_dir = os.path.join(validation_dir, 'xigua')\n",
    "os.mkdir(validation_xigua_dir)\n",
    "\n",
    "# 哈密瓜验证数据集所在目录\n",
    "validation_hami_dir = os.path.join(validation_dir, 'hami')\n",
    "os.mkdir(validation_hami_dir)\n",
    "\n",
    "# 西瓜测试数据集所在目录\n",
    "test_xigua_dir = os.path.join(test_dir, 'xigua')\n",
    "os.mkdir(test_xigua_dir)\n",
    "\n",
    "# 哈密瓜测试数据集所在目录\n",
    "test_hami_dir = os.path.join(test_dir, 'hami')\n",
    "os.mkdir(test_hami_dir)\n",
    "\n",
    "# 将前1000张西瓜图像复制到train\n",
    "fnames = ['xigua.{}.jpg'.format(i) for i in range(1000)]\n",
    "for fname in fnames:\n",
    "    src = os.path.join(original_dataset_dir, fname)\n",
    "    dst = os.path.join(train_xigua_dir, fname)\n",
    "    shutil.copyfile(src, dst)\n",
    "\n",
    "# 将剩下500张西瓜图像复制到validation\n",
    "fnames = ['xigua.{}.jpg'.format(i) for i in range(1000, 1500)]\n",
    "for fname in fnames:\n",
    "    src = os.path.join(original_dataset_dir, fname)\n",
    "    dst = os.path.join(validation_xigua_dir, fname)\n",
    "    shutil.copyfile(src, dst)\n",
    "\n",
    "# 将剩下500张西瓜图像复制到test_xigua_dir\n",
    "fnames = ['xigua.{}.jpg'.format(i) for i in range(1500, 2000)]\n",
    "for fname in fnames:\n",
    "    src = os.path.join(original_dataset_dir, fname)\n",
    "    dst = os.path.join(test_xigua_dir, fname)\n",
    "    shutil.copyfile(src, dst)\n",
    "\n",
    "# 将前1000张哈密瓜图像复制到train_hami_dir\n",
    "fnames = ['hami.{}.jpg'.format(i) for i in range(1000)]\n",
    "for fname in fnames:\n",
    "    src = os.path.join(original_dataset_dir, fname)\n",
    "    dst = os.path.join(train_hami_dir, fname)\n",
    "    shutil.copyfile(src, dst)\n",
    "\n",
    "# 将前1000张哈密瓜图像复制到train_hami_dir\n",
    "fnames = ['hami.{}.jpg'.format(i) for i in range(1000, 1500)]\n",
    "for fname in fnames:\n",
    "    src = os.path.join(original_dataset_dir, fname)\n",
    "    dst = os.path.join(validation_hami_dir, fname)\n",
    "    shutil.copyfile(src, dst)\n",
    "    \n",
    "# 将下500张哈密瓜图像复制到test_hami_dir\n",
    "fnames = ['hami.{}.jpg'.format(i) for i in range(1500, 2000)]\n",
    "for fname in fnames:\n",
    "    src = os.path.join(original_dataset_dir, fname)\n",
    "    dst = os.path.join(test_hami_dir, fname)\n",
    "    shutil.copyfile(src, dst)"
   ]
  },
  {
   "cell_type": "code",
   "execution_count": 2,
   "id": "7d07c6a4",
   "metadata": {},
   "outputs": [],
   "source": [
    "from tensorflow.keras import layers\n",
    "from tensorflow.keras import models\n",
    "from tensorflow import optimizers"
   ]
  },
  {
   "cell_type": "code",
   "execution_count": 3,
   "id": "33d42b38",
   "metadata": {},
   "outputs": [
    {
     "name": "stdout",
     "output_type": "stream",
     "text": [
      "Model: \"vgg16\"\n",
      "_________________________________________________________________\n",
      "Layer (type)                 Output Shape              Param #   \n",
      "=================================================================\n",
      "input_1 (InputLayer)         [(None, 150, 150, 3)]     0         \n",
      "_________________________________________________________________\n",
      "block1_conv1 (Conv2D)        (None, 150, 150, 64)      1792      \n",
      "_________________________________________________________________\n",
      "block1_conv2 (Conv2D)        (None, 150, 150, 64)      36928     \n",
      "_________________________________________________________________\n",
      "block1_pool (MaxPooling2D)   (None, 75, 75, 64)        0         \n",
      "_________________________________________________________________\n",
      "block2_conv1 (Conv2D)        (None, 75, 75, 128)       73856     \n",
      "_________________________________________________________________\n",
      "block2_conv2 (Conv2D)        (None, 75, 75, 128)       147584    \n",
      "_________________________________________________________________\n",
      "block2_pool (MaxPooling2D)   (None, 37, 37, 128)       0         \n",
      "_________________________________________________________________\n",
      "block3_conv1 (Conv2D)        (None, 37, 37, 256)       295168    \n",
      "_________________________________________________________________\n",
      "block3_conv2 (Conv2D)        (None, 37, 37, 256)       590080    \n",
      "_________________________________________________________________\n",
      "block3_conv3 (Conv2D)        (None, 37, 37, 256)       590080    \n",
      "_________________________________________________________________\n",
      "block3_pool (MaxPooling2D)   (None, 18, 18, 256)       0         \n",
      "_________________________________________________________________\n",
      "block4_conv1 (Conv2D)        (None, 18, 18, 512)       1180160   \n",
      "_________________________________________________________________\n",
      "block4_conv2 (Conv2D)        (None, 18, 18, 512)       2359808   \n",
      "_________________________________________________________________\n",
      "block4_conv3 (Conv2D)        (None, 18, 18, 512)       2359808   \n",
      "_________________________________________________________________\n",
      "block4_pool (MaxPooling2D)   (None, 9, 9, 512)         0         \n",
      "_________________________________________________________________\n",
      "block5_conv1 (Conv2D)        (None, 9, 9, 512)         2359808   \n",
      "_________________________________________________________________\n",
      "block5_conv2 (Conv2D)        (None, 9, 9, 512)         2359808   \n",
      "_________________________________________________________________\n",
      "block5_conv3 (Conv2D)        (None, 9, 9, 512)         2359808   \n",
      "_________________________________________________________________\n",
      "block5_pool (MaxPooling2D)   (None, 4, 4, 512)         0         \n",
      "=================================================================\n",
      "Total params: 14,714,688\n",
      "Trainable params: 14,714,688\n",
      "Non-trainable params: 0\n",
      "_________________________________________________________________\n"
     ]
    }
   ],
   "source": [
    "from tensorflow.keras.applications import VGG16\n",
    "conv_base=VGG16(weights='imagenet',\n",
    "                include_top=False,\n",
    "                input_shape=(150,150,3))\n",
    "\n",
    "conv_base.summary()"
   ]
  },
  {
   "cell_type": "code",
   "execution_count": 4,
   "id": "353aaf93",
   "metadata": {},
   "outputs": [
    {
     "name": "stdout",
     "output_type": "stream",
     "text": [
      "Found 2000 images belonging to 2 classes.\n",
      "Found 1000 images belonging to 2 classes.\n",
      "Found 1000 images belonging to 2 classes.\n"
     ]
    }
   ],
   "source": [
    "from tensorflow.keras.preprocessing.image import ImageDataGenerator\n",
    "train_datagen=ImageDataGenerator(\n",
    "    rescale=1./255,\n",
    "    rotation_range=40,\n",
    "    width_shift_range=0.2,\n",
    "    height_shift_range=0.2,\n",
    "    shear_range=0.2,\n",
    "    zoom_range=0.2,\n",
    "    horizontal_flip=True,\n",
    "    fill_mode='nearest')\n",
    "\n",
    "train_generator=train_datagen.flow_from_directory(\n",
    "    directory=train_dir,\n",
    "    target_size=(150,150),\n",
    "    class_mode='binary',\n",
    "    batch_size=20\n",
    ")\n",
    "#验证样本生成器\n",
    "validation_datagen=ImageDataGenerator(rescale=1./255)\n",
    "validation_generator=train_datagen.flow_from_directory(\n",
    "    directory=validation_dir,\n",
    "    target_size=(150,150),\n",
    "    class_mode='binary',\n",
    "    batch_size=20\n",
    ")\n",
    "#测试样本生成器\n",
    "test_datagen=ImageDataGenerator(rescale=1./255)\n",
    "test_generator=train_datagen.flow_from_directory(\n",
    "    directory=test_dir,\n",
    "    target_size=(150,150),\n",
    "    class_mode='binary',\n",
    "    batch_size=20\n",
    ")"
   ]
  },
  {
   "cell_type": "code",
   "execution_count": 7,
   "id": "df2cf853",
   "metadata": {},
   "outputs": [
    {
     "name": "stdout",
     "output_type": "stream",
     "text": [
      "data batch shape: (20, 150, 150, 3)\n",
      "labels batch shape: (20,)\n"
     ]
    }
   ],
   "source": [
    "#查看上面对于图片预处理的处理结果\n",
    "for data_batch, labels_batch in train_generator:\n",
    "    print('data batch shape:', data_batch.shape)\n",
    "    print('labels batch shape:', labels_batch.shape)\n",
    "    break"
   ]
  },
  {
   "cell_type": "code",
   "execution_count": 5,
   "id": "b1605a6e",
   "metadata": {},
   "outputs": [
    {
     "name": "stdout",
     "output_type": "stream",
     "text": [
      "Model: \"sequential\"\n",
      "_________________________________________________________________\n",
      "Layer (type)                 Output Shape              Param #   \n",
      "=================================================================\n",
      "vgg16 (Functional)           (None, 4, 4, 512)         14714688  \n",
      "_________________________________________________________________\n",
      "flatten (Flatten)            (None, 8192)              0         \n",
      "_________________________________________________________________\n",
      "dense (Dense)                (None, 256)               2097408   \n",
      "_________________________________________________________________\n",
      "dense_1 (Dense)              (None, 1)                 257       \n",
      "=================================================================\n",
      "Total params: 16,812,353\n",
      "Trainable params: 16,812,353\n",
      "Non-trainable params: 0\n",
      "_________________________________________________________________\n"
     ]
    }
   ],
   "source": [
    "model=models.Sequential()\n",
    "model.add(conv_base)\n",
    "model.add(layers.Flatten())\n",
    "model.add(layers.Dense(units=256,activation='relu'))\n",
    "model.add(layers.Dense(units=1,activation='sigmoid'))\n",
    "\n",
    "model.compile(optimizer=optimizers.RMSprop(learning_rate=1e-4),\n",
    "    loss='binary_crossentropy',\n",
    "    metrics=['acc'])\n",
    "\n",
    "model.summary()"
   ]
  },
  {
   "cell_type": "code",
   "execution_count": 8,
   "id": "93c72b8e",
   "metadata": {},
   "outputs": [
    {
     "name": "stdout",
     "output_type": "stream",
     "text": [
      "Epoch 1/30\n",
      "30/30 [==============================] - 299s 10s/step - loss: 0.6695 - acc: 0.6233 - val_loss: 0.5914 - val_acc: 0.7170\n",
      "Epoch 2/30\n",
      "30/30 [==============================] - 301s 10s/step - loss: 0.5539 - acc: 0.7450 - val_loss: 0.5174 - val_acc: 0.7370\n",
      "Epoch 3/30\n",
      "30/30 [==============================] - 290s 10s/step - loss: 0.5474 - acc: 0.7333 - val_loss: 0.5811 - val_acc: 0.6940\n",
      "Epoch 4/30\n",
      "30/30 [==============================] - 295s 10s/step - loss: 0.5775 - acc: 0.7333 - val_loss: 0.5092 - val_acc: 0.7480\n",
      "Epoch 5/30\n",
      "30/30 [==============================] - 297s 10s/step - loss: 0.4854 - acc: 0.7800 - val_loss: 0.4279 - val_acc: 0.7990\n",
      "Epoch 6/30\n",
      "30/30 [==============================] - 307s 10s/step - loss: 0.4991 - acc: 0.7467 - val_loss: 0.5712 - val_acc: 0.6800\n",
      "Epoch 7/30\n",
      "30/30 [==============================] - 311s 10s/step - loss: 0.4612 - acc: 0.7767 - val_loss: 0.5866 - val_acc: 0.7000\n",
      "Epoch 8/30\n",
      "30/30 [==============================] - 336s 11s/step - loss: 0.4651 - acc: 0.7983 - val_loss: 0.4257 - val_acc: 0.8050\n",
      "Epoch 9/30\n",
      "30/30 [==============================] - 341s 11s/step - loss: 0.4047 - acc: 0.8100 - val_loss: 0.3622 - val_acc: 0.8510\n",
      "Epoch 10/30\n",
      "30/30 [==============================] - 306s 10s/step - loss: 0.4784 - acc: 0.7933 - val_loss: 0.6001 - val_acc: 0.6760\n",
      "Epoch 11/30\n",
      "30/30 [==============================] - 306s 10s/step - loss: 0.3951 - acc: 0.8150 - val_loss: 0.3807 - val_acc: 0.8300\n",
      "Epoch 12/30\n",
      "30/30 [==============================] - 325s 11s/step - loss: 0.3775 - acc: 0.8417 - val_loss: 0.3247 - val_acc: 0.8740\n",
      "Epoch 13/30\n",
      "30/30 [==============================] - 346s 12s/step - loss: 0.3905 - acc: 0.8367 - val_loss: 0.3932 - val_acc: 0.8410\n",
      "Epoch 14/30\n",
      "30/30 [==============================] - 338s 11s/step - loss: 0.3652 - acc: 0.8333 - val_loss: 0.4202 - val_acc: 0.8300\n",
      "Epoch 15/30\n",
      "30/30 [==============================] - 368s 12s/step - loss: 0.3699 - acc: 0.8333 - val_loss: 0.3400 - val_acc: 0.8520\n",
      "Epoch 16/30\n",
      "30/30 [==============================] - 357s 12s/step - loss: 0.3834 - acc: 0.8383 - val_loss: 0.5587 - val_acc: 0.7480\n",
      "Epoch 17/30\n",
      "30/30 [==============================] - 356s 12s/step - loss: 0.3263 - acc: 0.8733 - val_loss: 0.4026 - val_acc: 0.8140\n",
      "Epoch 18/30\n",
      "30/30 [==============================] - 364s 12s/step - loss: 0.3426 - acc: 0.8533 - val_loss: 0.3418 - val_acc: 0.8480\n",
      "Epoch 19/30\n",
      "30/30 [==============================] - 402s 13s/step - loss: 0.3402 - acc: 0.8733 - val_loss: 0.6663 - val_acc: 0.5900\n",
      "Epoch 20/30\n",
      "30/30 [==============================] - 436s 15s/step - loss: 0.3849 - acc: 0.8417 - val_loss: 0.2702 - val_acc: 0.8910\n",
      "Epoch 21/30\n",
      "30/30 [==============================] - 403s 13s/step - loss: 0.4188 - acc: 0.8533 - val_loss: 0.3601 - val_acc: 0.8370\n",
      "Epoch 22/30\n",
      "30/30 [==============================] - 407s 14s/step - loss: 0.3113 - acc: 0.8750 - val_loss: 0.3904 - val_acc: 0.8320\n",
      "Epoch 23/30\n",
      "30/30 [==============================] - 442s 15s/step - loss: 0.3655 - acc: 0.8433 - val_loss: 0.3758 - val_acc: 0.8290\n",
      "Epoch 24/30\n",
      "30/30 [==============================] - 635s 21s/step - loss: 0.3000 - acc: 0.8733 - val_loss: 0.3673 - val_acc: 0.8700\n",
      "Epoch 25/30\n",
      "30/30 [==============================] - 641s 21s/step - loss: 0.3133 - acc: 0.8800 - val_loss: 0.2695 - val_acc: 0.8860\n",
      "Epoch 26/30\n",
      "30/30 [==============================] - 640s 21s/step - loss: 0.3239 - acc: 0.8667 - val_loss: 0.3476 - val_acc: 0.8400\n",
      "Epoch 27/30\n",
      "30/30 [==============================] - 657s 22s/step - loss: 0.3313 - acc: 0.8800 - val_loss: 0.4564 - val_acc: 0.7560\n",
      "Epoch 28/30\n",
      "30/30 [==============================] - 652s 22s/step - loss: 0.3269 - acc: 0.8883 - val_loss: 0.5932 - val_acc: 0.7770\n",
      "Epoch 29/30\n",
      "30/30 [==============================] - 379s 13s/step - loss: 0.3521 - acc: 0.8650 - val_loss: 0.3723 - val_acc: 0.8550\n",
      "Epoch 30/30\n",
      "30/30 [==============================] - 550s 18s/step - loss: 0.3302 - acc: 0.8717 - val_loss: 0.3048 - val_acc: 0.8670\n"
     ]
    }
   ],
   "source": [
    "history=model.fit_generator(\n",
    "        train_generator,\n",
    "        steps_per_epoch=30,\n",
    "        epochs=30,\n",
    "        validation_data=validation_generator,\n",
    "        validation_steps=50\n",
    "    )"
   ]
  },
  {
   "cell_type": "code",
   "execution_count": 9,
   "id": "4fa8e574",
   "metadata": {},
   "outputs": [
    {
     "data": {
      "image/png": "[encoded data removed]",
      "text/plain": [
       "<Figure size 432x288 with 1 Axes>"
      ]
     },
     "metadata": {
      "needs_background": "light"
     },
     "output_type": "display_data"
    },
    {
     "data": {
      "image/png": "[encoded data removed]",
      "text/plain": [
       "<Figure size 432x288 with 1 Axes>"
      ]
     },
     "metadata": {
      "needs_background": "light"
     },
     "output_type": "display_data"
    }
   ],
   "source": [
    "# 结果可视化\n",
    "import matplotlib.pyplot as plt\n",
    "\n",
    "acc = history.history['acc']\n",
    "val_acc = history.history['val_acc']\n",
    "loss = history.history['loss']\n",
    "val_loss = history.history['val_loss']\n",
    "\n",
    "epochs = range(len(acc))\n",
    "\n",
    "plt.plot(epochs, acc, 'bo', label='Training acc')\n",
    "plt.plot(epochs, val_acc, 'b', label='Validation acc')\n",
    "plt.title('Training and validation accuracy')\n",
    "plt.legend()\n",
    "\n",
    "plt.figure()\n",
    "\n",
    "plt.plot(epochs, loss, 'bo', label='Training loss')\n",
    "plt.plot(epochs, val_loss, 'b', label='Validation loss')\n",
    "plt.title('Training and validation loss')\n",
    "plt.legend()\n",
    "\n",
    "plt.show()"
   ]
  }
 ],
 "metadata": {
  "kernelspec": {
   "display_name": "Python 3 (ipykernel)",
   "language": "python",
   "name": "python3"
  },
  "language_info": {
   "codemirror_mode": {
    "name": "ipython",
    "version": 3
   },
   "file_extension": ".py",
   "mimetype": "text/x-python",
   "name": "python",
   "nbconvert_exporter": "python",
   "pygments_lexer": "ipython3",
   "version": "3.8.3"
  }
 },
 "nbformat": 4,
 "nbformat_minor": 5
}
